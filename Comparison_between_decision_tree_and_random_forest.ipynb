{
 "cells": [
  {
   "cell_type": "markdown",
   "metadata": {},
   "source": [
    "# Data"
   ]
  },
  {
   "cell_type": "code",
   "execution_count": 1,
   "metadata": {},
   "outputs": [
    {
     "name": "stderr",
     "output_type": "stream",
     "text": [
      "/home/taeyong/anaconda3/lib/python3.6/site-packages/h5py/__init__.py:36: FutureWarning: Conversion of the second argument of issubdtype from `float` to `np.floating` is deprecated. In future, it will be treated as `np.float64 == np.dtype(float).type`.\n",
      "  from ._conv import register_converters as _register_converters\n",
      "Using TensorFlow backend.\n",
      "/home/taeyong/anaconda3/lib/python3.6/importlib/_bootstrap.py:219: RuntimeWarning: compiletime version 3.5 of module 'tensorflow.python.framework.fast_tensor_util' does not match runtime version 3.6\n",
      "  return f(*args, **kwds)\n"
     ]
    }
   ],
   "source": [
    "from keras.datasets import mnist\n",
    "from keras.utils import np_utils"
   ]
  },
  {
   "cell_type": "code",
   "execution_count": 2,
   "metadata": {},
   "outputs": [],
   "source": [
    "def get_MNIST():\n",
    "    (X_train, y_train), (X_test, y_test) = mnist.load_data()\n",
    "    \n",
    "    # normalization\n",
    "    X_train = X_train.astype('float32')\n",
    "    X_test = X_test.astype('float32')\n",
    "    X_train = X_train / 255.0\n",
    "    X_test = X_test / 255.0\n",
    "    \n",
    "    # reshape\n",
    "    X_train = X_train.reshape((X_train.shape[0], X_train.shape[1] * X_train.shape[2]))\n",
    "    X_test = X_test.reshape((X_test.shape[0], X_test.shape[1] * X_test.shape[2]))\n",
    "\n",
    "    # one-hot encoding\n",
    "    y_train = np_utils.to_categorical(y_train)\n",
    "    y_test = np_utils.to_categorical(y_test)\n",
    "    \n",
    "    return X_train, y_train, X_test, y_test"
   ]
  },
  {
   "cell_type": "code",
   "execution_count": 3,
   "metadata": {},
   "outputs": [],
   "source": [
    "X_train, y_train, X_test, y_test = get_MNIST()"
   ]
  },
  {
   "cell_type": "code",
   "execution_count": 4,
   "metadata": {},
   "outputs": [
    {
     "name": "stdout",
     "output_type": "stream",
     "text": [
      "(60000, 784)\n",
      "(60000, 10)\n",
      "(10000, 784)\n",
      "(10000, 10)\n"
     ]
    }
   ],
   "source": [
    "print(X_train.shape)\n",
    "print(y_train.shape)\n",
    "print(X_test.shape)\n",
    "print(y_test.shape)"
   ]
  },
  {
   "cell_type": "markdown",
   "metadata": {},
   "source": [
    "# Confusion Matrix Visualization"
   ]
  },
  {
   "cell_type": "code",
   "execution_count": 5,
   "metadata": {},
   "outputs": [],
   "source": [
    "import numpy as np\n",
    "import matplotlib.pyplot as plt\n",
    "\n",
    "from sklearn import svm, datasets\n",
    "from sklearn.model_selection import train_test_split\n",
    "from sklearn.metrics import confusion_matrix\n",
    "from sklearn.utils.multiclass import unique_labels"
   ]
  },
  {
   "cell_type": "code",
   "execution_count": 6,
   "metadata": {},
   "outputs": [],
   "source": [
    "class_names = np.array(['0', '1', '2', '3', '4', '5', '6', '7', '8', '9'])"
   ]
  },
  {
   "cell_type": "code",
   "execution_count": 7,
   "metadata": {},
   "outputs": [],
   "source": [
    "def plot_confusion_matrix(y_true, y_pred, classes,\n",
    "                          normalize=False,\n",
    "                          title=None,\n",
    "                          cmap=plt.cm.Blues):\n",
    "    \"\"\"\n",
    "    This function prints and plots the confusion matrix.\n",
    "    Normalization can be applied by setting `normalize=True`.\n",
    "    \"\"\"\n",
    "    if not title:\n",
    "        if normalize:\n",
    "            title = 'Normalized confusion matrix'\n",
    "        else:\n",
    "            title = 'Confusion matrix, without normalization'\n",
    "\n",
    "    # Compute confusion matrix\n",
    "    cm = confusion_matrix(y_true, y_pred)\n",
    "    # Only use the labels that appear in the data\n",
    "    classes = classes[unique_labels(y_true, y_pred)]\n",
    "    if normalize:\n",
    "        cm = cm.astype('float') / cm.sum(axis=1)[:, np.newaxis]\n",
    "        print(\"Normalized confusion matrix\")\n",
    "    else:\n",
    "        print('Confusion matrix, without normalization')\n",
    "\n",
    "    print(cm)\n",
    "\n",
    "    fig, ax = plt.subplots()\n",
    "    im = ax.imshow(cm, interpolation='nearest', cmap=cmap)\n",
    "    ax.figure.colorbar(im, ax=ax)\n",
    "    # We want to show all ticks...\n",
    "    ax.set(xticks=np.arange(cm.shape[1]),\n",
    "           yticks=np.arange(cm.shape[0]),\n",
    "           # ... and label them with the respective list entries\n",
    "           xticklabels=classes, yticklabels=classes,\n",
    "           title=title,\n",
    "           ylabel='True label',\n",
    "           xlabel='Predicted label')\n",
    "\n",
    "    # Rotate the tick labels and set their alignment.\n",
    "    plt.setp(ax.get_xticklabels(), rotation=45, ha=\"right\",\n",
    "             rotation_mode=\"anchor\")\n",
    "\n",
    "    # Loop over data dimensions and create text annotations.\n",
    "    fmt = '.2f' if normalize else 'd'\n",
    "    thresh = cm.max() / 2.\n",
    "    for i in range(cm.shape[0]):\n",
    "        for j in range(cm.shape[1]):\n",
    "            ax.text(j, i, format(cm[i, j], fmt),\n",
    "                    ha=\"center\", va=\"center\",\n",
    "                    color=\"white\" if cm[i, j] > thresh else \"black\")\n",
    "    fig.tight_layout()\n",
    "    return ax"
   ]
  },
  {
   "cell_type": "code",
   "execution_count": 8,
   "metadata": {},
   "outputs": [],
   "source": [
    "np.set_printoptions(precision=2)"
   ]
  },
  {
   "cell_type": "markdown",
   "metadata": {},
   "source": [
    "# Decision Tree"
   ]
  },
  {
   "cell_type": "code",
   "execution_count": 9,
   "metadata": {},
   "outputs": [],
   "source": [
    "from sklearn.tree import DecisionTreeClassifier"
   ]
  },
  {
   "cell_type": "code",
   "execution_count": 10,
   "metadata": {},
   "outputs": [
    {
     "data": {
      "text/plain": [
       "DecisionTreeClassifier(class_weight=None, criterion='gini', max_depth=None,\n",
       "            max_features=None, max_leaf_nodes=None,\n",
       "            min_impurity_decrease=0.0, min_impurity_split=None,\n",
       "            min_samples_leaf=1, min_samples_split=2,\n",
       "            min_weight_fraction_leaf=0.0, presort=False, random_state=None,\n",
       "            splitter='best')"
      ]
     },
     "execution_count": 10,
     "metadata": {},
     "output_type": "execute_result"
    }
   ],
   "source": [
    "dtree = DecisionTreeClassifier()\n",
    "dtree.fit(X_train, y_train)"
   ]
  },
  {
   "cell_type": "code",
   "execution_count": 11,
   "metadata": {},
   "outputs": [],
   "source": [
    "predictions = dtree.predict(X_test)"
   ]
  },
  {
   "cell_type": "code",
   "execution_count": 12,
   "metadata": {},
   "outputs": [
    {
     "name": "stdout",
     "output_type": "stream",
     "text": [
      "             precision    recall  f1-score   support\n",
      "\n",
      "          0       0.92      0.94      0.93       980\n",
      "          1       0.95      0.96      0.95      1135\n",
      "          2       0.87      0.85      0.86      1032\n",
      "          3       0.83      0.86      0.84      1010\n",
      "          4       0.88      0.87      0.88       982\n",
      "          5       0.86      0.84      0.85       892\n",
      "          6       0.90      0.89      0.89       958\n",
      "          7       0.91      0.90      0.90      1028\n",
      "          8       0.82      0.81      0.81       974\n",
      "          9       0.85      0.85      0.85      1009\n",
      "\n",
      "avg / total       0.88      0.88      0.88     10000\n",
      "\n"
     ]
    }
   ],
   "source": [
    "from sklearn.metrics import classification_report\n",
    "print(classification_report(y_test, predictions))"
   ]
  },
  {
   "cell_type": "code",
   "execution_count": 13,
   "metadata": {},
   "outputs": [
    {
     "name": "stdout",
     "output_type": "stream",
     "text": [
      "Normalized confusion matrix\n",
      "[[9.40e-01 1.02e-03 5.10e-03 1.02e-02 5.10e-03 8.16e-03 1.02e-02 7.14e-03\n",
      "  8.16e-03 5.10e-03]\n",
      " [8.81e-04 9.59e-01 8.81e-03 5.29e-03 1.76e-03 5.29e-03 5.29e-03 2.64e-03\n",
      "  1.06e-02 8.81e-04]\n",
      " [9.69e-03 9.69e-03 8.54e-01 3.29e-02 1.07e-02 1.07e-02 1.26e-02 2.91e-02\n",
      "  2.13e-02 9.69e-03]\n",
      " [7.92e-03 5.94e-03 3.07e-02 8.58e-01 8.91e-03 3.37e-02 1.98e-03 7.92e-03\n",
      "  2.57e-02 1.88e-02]\n",
      " [3.05e-03 3.05e-03 1.12e-02 3.05e-03 8.75e-01 8.15e-03 1.63e-02 1.02e-02\n",
      "  2.24e-02 4.79e-02]\n",
      " [1.68e-02 1.01e-02 7.85e-03 4.48e-02 7.85e-03 8.35e-01 2.24e-02 5.61e-03\n",
      "  3.03e-02 1.91e-02]\n",
      " [1.67e-02 4.18e-03 9.39e-03 1.15e-02 1.88e-02 1.67e-02 8.87e-01 1.04e-03\n",
      "  2.82e-02 6.26e-03]\n",
      " [1.95e-03 1.65e-02 2.33e-02 1.36e-02 6.81e-03 4.86e-03 1.95e-03 9.01e-01\n",
      "  5.84e-03 2.43e-02]\n",
      " [9.24e-03 1.13e-02 2.77e-02 4.21e-02 1.95e-02 2.87e-02 1.75e-02 9.24e-03\n",
      "  8.11e-01 2.36e-02]\n",
      " [1.09e-02 1.98e-03 8.92e-03 2.38e-02 3.87e-02 9.91e-03 6.94e-03 1.98e-02\n",
      "  2.48e-02 8.54e-01]]\n"
     ]
    },
    {
     "data": {
      "image/png": "[encoded data removed]",
      "text/plain": [
       "<Figure size 432x288 with 2 Axes>"
      ]
     },
     "metadata": {},
     "output_type": "display_data"
    }
   ],
   "source": [
    "# Plot normalized confusion matrix\n",
    "plot_confusion_matrix(y_test.argmax(axis=1), predictions.argmax(axis=1), classes=class_names, normalize=True,\n",
    "                      title='Confusion Matrix of Decision Tree')\n",
    "\n",
    "plt.show()"
   ]
  },
  {
   "cell_type": "markdown",
   "metadata": {},
   "source": [
    "# random forest (n_estimator = 3)"
   ]
  },
  {
   "cell_type": "code",
   "execution_count": 14,
   "metadata": {},
   "outputs": [
    {
     "name": "stderr",
     "output_type": "stream",
     "text": [
      "/home/taeyong/anaconda3/lib/python3.6/site-packages/sklearn/ensemble/weight_boosting.py:29: DeprecationWarning: numpy.core.umath_tests is an internal NumPy module and should not be imported. It will be removed in a future NumPy release.\n",
      "  from numpy.core.umath_tests import inner1d\n"
     ]
    }
   ],
   "source": [
    "from sklearn.ensemble import RandomForestClassifier"
   ]
  },
  {
   "cell_type": "code",
   "execution_count": 15,
   "metadata": {},
   "outputs": [
    {
     "data": {
      "text/plain": [
       "RandomForestClassifier(bootstrap=True, class_weight=None, criterion='gini',\n",
       "            max_depth=None, max_features='auto', max_leaf_nodes=None,\n",
       "            min_impurity_decrease=0.0, min_impurity_split=None,\n",
       "            min_samples_leaf=1, min_samples_split=2,\n",
       "            min_weight_fraction_leaf=0.0, n_estimators=3, n_jobs=1,\n",
       "            oob_score=False, random_state=None, verbose=0,\n",
       "            warm_start=False)"
      ]
     },
     "execution_count": 15,
     "metadata": {},
     "output_type": "execute_result"
    }
   ],
   "source": [
    "rfc = RandomForestClassifier(n_estimators=3)\n",
    "rfc.fit(X_train,y_train)"
   ]
  },
  {
   "cell_type": "code",
   "execution_count": 16,
   "metadata": {},
   "outputs": [],
   "source": [
    "predictions = rfc.predict(X_test)"
   ]
  },
  {
   "cell_type": "code",
   "execution_count": 17,
   "metadata": {},
   "outputs": [
    {
     "name": "stdout",
     "output_type": "stream",
     "text": [
      "             precision    recall  f1-score   support\n",
      "\n",
      "          0       0.97      0.94      0.96       980\n",
      "          1       0.99      0.98      0.98      1135\n",
      "          2       0.94      0.84      0.89      1032\n",
      "          3       0.92      0.82      0.87      1010\n",
      "          4       0.93      0.84      0.88       982\n",
      "          5       0.91      0.78      0.84       892\n",
      "          6       0.96      0.88      0.92       958\n",
      "          7       0.96      0.88      0.92      1028\n",
      "          8       0.93      0.77      0.84       974\n",
      "          9       0.92      0.82      0.87      1009\n",
      "\n",
      "avg / total       0.94      0.86      0.90     10000\n",
      "\n"
     ]
    }
   ],
   "source": [
    "from sklearn.metrics import classification_report,confusion_matrix\n",
    "print(classification_report(y_test,predictions))"
   ]
  },
  {
   "cell_type": "code",
   "execution_count": 18,
   "metadata": {},
   "outputs": [
    {
     "name": "stdout",
     "output_type": "stream",
     "text": [
      "Normalized confusion matrix\n",
      "[[9.81e-01 1.02e-03 0.00e+00 2.04e-03 2.04e-03 4.08e-03 4.08e-03 4.08e-03\n",
      "  1.02e-03 1.02e-03]\n",
      " [1.32e-02 9.75e-01 2.64e-03 2.64e-03 8.81e-04 1.76e-03 1.76e-03 8.81e-04\n",
      "  8.81e-04 0.00e+00]\n",
      " [1.04e-01 0.00e+00 8.44e-01 1.36e-02 7.75e-03 9.69e-04 9.69e-03 8.72e-03\n",
      "  1.07e-02 9.69e-04]\n",
      " [1.10e-01 0.00e+00 1.49e-02 8.21e-01 9.90e-04 2.97e-02 9.90e-04 4.95e-03\n",
      "  1.39e-02 3.96e-03]\n",
      " [1.08e-01 0.00e+00 2.04e-03 0.00e+00 8.43e-01 2.04e-03 5.09e-03 2.04e-03\n",
      "  7.13e-03 3.05e-02]\n",
      " [1.50e-01 3.36e-03 0.00e+00 2.91e-02 6.73e-03 7.83e-01 3.36e-03 2.24e-03\n",
      "  1.57e-02 6.73e-03]\n",
      " [8.77e-02 3.13e-03 6.26e-03 1.04e-03 7.31e-03 7.31e-03 8.81e-01 0.00e+00\n",
      "  4.18e-03 2.09e-03]\n",
      " [6.91e-02 4.86e-03 1.75e-02 5.84e-03 4.86e-03 1.95e-03 0.00e+00 8.79e-01\n",
      "  1.95e-03 1.46e-02]\n",
      " [1.55e-01 0.00e+00 6.16e-03 2.05e-02 5.13e-03 1.54e-02 7.19e-03 7.19e-03\n",
      "  7.73e-01 1.03e-02]\n",
      " [1.19e-01 2.97e-03 1.98e-03 4.96e-03 2.68e-02 8.92e-03 0.00e+00 7.93e-03\n",
      "  3.96e-03 8.24e-01]]\n"
     ]
    },
    {
     "data": {
      "image/png": "[encoded data removed]",
      "text/plain": [
       "<Figure size 432x288 with 2 Axes>"
      ]
     },
     "metadata": {},
     "output_type": "display_data"
    }
   ],
   "source": [
    "# Plot normalized confusion matrix\n",
    "plot_confusion_matrix(y_test.argmax(axis=1), predictions.argmax(axis=1), classes=class_names, normalize=True,\n",
    "                      title='Confusion Matrix of Random Forest (n_estimator = 3)')\n",
    "\n",
    "plt.show()"
   ]
  },
  {
   "cell_type": "markdown",
   "metadata": {},
   "source": [
    "# random forest (n_estimator = 30)"
   ]
  },
  {
   "cell_type": "code",
   "execution_count": 19,
   "metadata": {},
   "outputs": [],
   "source": [
    "from sklearn.ensemble import RandomForestClassifier"
   ]
  },
  {
   "cell_type": "code",
   "execution_count": 20,
   "metadata": {},
   "outputs": [
    {
     "data": {
      "text/plain": [
       "RandomForestClassifier(bootstrap=True, class_weight=None, criterion='gini',\n",
       "            max_depth=None, max_features='auto', max_leaf_nodes=None,\n",
       "            min_impurity_decrease=0.0, min_impurity_split=None,\n",
       "            min_samples_leaf=1, min_samples_split=2,\n",
       "            min_weight_fraction_leaf=0.0, n_estimators=30, n_jobs=1,\n",
       "            oob_score=False, random_state=None, verbose=0,\n",
       "            warm_start=False)"
      ]
     },
     "execution_count": 20,
     "metadata": {},
     "output_type": "execute_result"
    }
   ],
   "source": [
    "rfc = RandomForestClassifier(n_estimators=30)\n",
    "rfc.fit(X_train,y_train)"
   ]
  },
  {
   "cell_type": "code",
   "execution_count": 21,
   "metadata": {},
   "outputs": [],
   "source": [
    "predictions = rfc.predict(X_test)"
   ]
  },
  {
   "cell_type": "code",
   "execution_count": 22,
   "metadata": {},
   "outputs": [
    {
     "name": "stdout",
     "output_type": "stream",
     "text": [
      "             precision    recall  f1-score   support\n",
      "\n",
      "          0       1.00      0.97      0.98       980\n",
      "          1       1.00      0.98      0.99      1135\n",
      "          2       0.98      0.88      0.93      1032\n",
      "          3       0.99      0.87      0.93      1010\n",
      "          4       1.00      0.88      0.93       982\n",
      "          5       1.00      0.85      0.92       892\n",
      "          6       1.00      0.93      0.96       958\n",
      "          7       0.99      0.89      0.94      1028\n",
      "          8       0.99      0.82      0.90       974\n",
      "          9       0.99      0.87      0.93      1009\n",
      "\n",
      "avg / total       0.99      0.89      0.94     10000\n",
      "\n"
     ]
    }
   ],
   "source": [
    "from sklearn.metrics import classification_report,confusion_matrix\n",
    "print(classification_report(y_test,predictions))"
   ]
  },
  {
   "cell_type": "code",
   "execution_count": 23,
   "metadata": {},
   "outputs": [
    {
     "name": "stdout",
     "output_type": "stream",
     "text": [
      "Normalized confusion matrix\n",
      "[[9.99e-01 0.00e+00 0.00e+00 0.00e+00 0.00e+00 0.00e+00 0.00e+00 1.02e-03\n",
      "  0.00e+00 0.00e+00]\n",
      " [1.85e-02 9.80e-01 8.81e-04 8.81e-04 0.00e+00 0.00e+00 0.00e+00 0.00e+00\n",
      "  0.00e+00 0.00e+00]\n",
      " [1.16e-01 0.00e+00 8.76e-01 0.00e+00 0.00e+00 0.00e+00 1.94e-03 3.88e-03\n",
      "  1.94e-03 0.00e+00]\n",
      " [1.23e-01 0.00e+00 2.97e-03 8.67e-01 0.00e+00 9.90e-04 0.00e+00 1.98e-03\n",
      "  2.97e-03 9.90e-04]\n",
      " [1.16e-01 0.00e+00 0.00e+00 0.00e+00 8.76e-01 0.00e+00 0.00e+00 0.00e+00\n",
      "  1.02e-03 7.13e-03]\n",
      " [1.45e-01 0.00e+00 0.00e+00 4.48e-03 0.00e+00 8.46e-01 1.12e-03 1.12e-03\n",
      "  2.24e-03 0.00e+00]\n",
      " [7.10e-02 1.04e-03 0.00e+00 0.00e+00 1.04e-03 0.00e+00 9.27e-01 0.00e+00\n",
      "  0.00e+00 0.00e+00]\n",
      " [9.14e-02 0.00e+00 1.17e-02 0.00e+00 0.00e+00 0.00e+00 0.00e+00 8.95e-01\n",
      "  0.00e+00 1.95e-03]\n",
      " [1.74e-01 0.00e+00 0.00e+00 0.00e+00 1.03e-03 0.00e+00 1.03e-03 0.00e+00\n",
      "  8.21e-01 3.08e-03]\n",
      " [1.24e-01 0.00e+00 0.00e+00 9.91e-04 1.98e-03 0.00e+00 0.00e+00 9.91e-04\n",
      "  0.00e+00 8.72e-01]]\n"
     ]
    },
    {
     "data": {
      "image/png": "[encoded data removed]",
      "text/plain": [
       "<Figure size 432x288 with 2 Axes>"
      ]
     },
     "metadata": {},
     "output_type": "display_data"
    }
   ],
   "source": [
    "# Plot normalized confusion matrix\n",
    "plot_confusion_matrix(y_test.argmax(axis=1), predictions.argmax(axis=1), classes=class_names, normalize=True,\n",
    "                      title='Confusion Matrix of Random Forest (n_estimator = 3)')\n",
    "\n",
    "plt.show()"
   ]
  },
  {
   "cell_type": "markdown",
   "metadata": {},
   "source": [
    "# random forest (n_estimator = 60)"
   ]
  },
  {
   "cell_type": "code",
   "execution_count": 24,
   "metadata": {},
   "outputs": [],
   "source": [
    "from sklearn.ensemble import RandomForestClassifier"
   ]
  },
  {
   "cell_type": "code",
   "execution_count": 25,
   "metadata": {},
   "outputs": [
    {
     "data": {
      "text/plain": [
       "RandomForestClassifier(bootstrap=True, class_weight=None, criterion='gini',\n",
       "            max_depth=None, max_features='auto', max_leaf_nodes=None,\n",
       "            min_impurity_decrease=0.0, min_impurity_split=None,\n",
       "            min_samples_leaf=1, min_samples_split=2,\n",
       "            min_weight_fraction_leaf=0.0, n_estimators=60, n_jobs=1,\n",
       "            oob_score=False, random_state=None, verbose=0,\n",
       "            warm_start=False)"
      ]
     },
     "execution_count": 25,
     "metadata": {},
     "output_type": "execute_result"
    }
   ],
   "source": [
    "rfc = RandomForestClassifier(n_estimators=60)\n",
    "rfc.fit(X_train,y_train)"
   ]
  },
  {
   "cell_type": "code",
   "execution_count": 26,
   "metadata": {},
   "outputs": [],
   "source": [
    "predictions = rfc.predict(X_test)"
   ]
  },
  {
   "cell_type": "code",
   "execution_count": 27,
   "metadata": {},
   "outputs": [
    {
     "name": "stdout",
     "output_type": "stream",
     "text": [
      "             precision    recall  f1-score   support\n",
      "\n",
      "          0       0.99      0.97      0.98       980\n",
      "          1       1.00      0.98      0.99      1135\n",
      "          2       0.99      0.89      0.94      1032\n",
      "          3       1.00      0.87      0.93      1010\n",
      "          4       0.99      0.89      0.94       982\n",
      "          5       1.00      0.85      0.92       892\n",
      "          6       1.00      0.92      0.96       958\n",
      "          7       0.99      0.91      0.95      1028\n",
      "          8       0.99      0.83      0.91       974\n",
      "          9       0.99      0.88      0.93      1009\n",
      "\n",
      "avg / total       0.99      0.90      0.94     10000\n",
      "\n"
     ]
    }
   ],
   "source": [
    "from sklearn.metrics import classification_report,confusion_matrix\n",
    "print(classification_report(y_test,predictions))"
   ]
  },
  {
   "cell_type": "code",
   "execution_count": 28,
   "metadata": {},
   "outputs": [
    {
     "name": "stdout",
     "output_type": "stream",
     "text": [
      "Normalized confusion matrix\n",
      "[[9.99e-01 0.00e+00 0.00e+00 0.00e+00 0.00e+00 0.00e+00 0.00e+00 1.02e-03\n",
      "  0.00e+00 0.00e+00]\n",
      " [1.94e-02 9.79e-01 0.00e+00 0.00e+00 0.00e+00 0.00e+00 8.81e-04 0.00e+00\n",
      "  8.81e-04 0.00e+00]\n",
      " [1.06e-01 0.00e+00 8.90e-01 0.00e+00 0.00e+00 0.00e+00 0.00e+00 3.88e-03\n",
      "  9.69e-04 0.00e+00]\n",
      " [1.16e-01 0.00e+00 9.90e-04 8.74e-01 0.00e+00 1.98e-03 0.00e+00 2.97e-03\n",
      "  2.97e-03 9.90e-04]\n",
      " [1.02e-01 0.00e+00 0.00e+00 0.00e+00 8.90e-01 0.00e+00 2.04e-03 0.00e+00\n",
      "  1.02e-03 5.09e-03]\n",
      " [1.43e-01 0.00e+00 0.00e+00 1.12e-03 0.00e+00 8.54e-01 1.12e-03 0.00e+00\n",
      "  0.00e+00 0.00e+00]\n",
      " [7.31e-02 1.04e-03 0.00e+00 0.00e+00 1.04e-03 0.00e+00 9.25e-01 0.00e+00\n",
      "  0.00e+00 0.00e+00]\n",
      " [8.37e-02 0.00e+00 7.78e-03 0.00e+00 0.00e+00 0.00e+00 0.00e+00 9.07e-01\n",
      "  0.00e+00 1.95e-03]\n",
      " [1.61e-01 0.00e+00 0.00e+00 0.00e+00 2.05e-03 0.00e+00 0.00e+00 0.00e+00\n",
      "  8.35e-01 2.05e-03]\n",
      " [1.18e-01 1.98e-03 0.00e+00 9.91e-04 1.98e-03 0.00e+00 0.00e+00 9.91e-04\n",
      "  0.00e+00 8.76e-01]]\n"
     ]
    },
    {
     "data": {
      "image/png": "[encoded data removed]",
      "text/plain": [
       "<Figure size 432x288 with 2 Axes>"
      ]
     },
     "metadata": {},
     "output_type": "display_data"
    }
   ],
   "source": [
    "# Plot normalized confusion matrix\n",
    "plot_confusion_matrix(y_test.argmax(axis=1), predictions.argmax(axis=1), classes=class_names, normalize=True,\n",
    "                      title='Confusion Matrix of Random Forest (n_estimator = 3)')\n",
    "\n",
    "plt.show()"
   ]
  }
 ],
 "metadata": {
  "kernelspec": {
   "display_name": "Python 3",
   "language": "python",
   "name": "python3"
  },
  "language_info": {
   "codemirror_mode": {
    "name": "ipython",
    "version": 3
   },
   "file_extension": ".py",
   "mimetype": "text/x-python",
   "name": "python",
   "nbconvert_exporter": "python",
   "pygments_lexer": "ipython3",
   "version": "3.6.5"
  }
 },
 "nbformat": 4,
 "nbformat_minor": 2
}
