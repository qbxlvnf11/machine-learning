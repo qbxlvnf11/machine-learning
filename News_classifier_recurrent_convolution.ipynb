{
 "cells": [
  {
   "cell_type": "markdown",
   "metadata": {},
   "source": [
    "# library"
   ]
  },
  {
   "cell_type": "code",
   "execution_count": 1,
   "metadata": {},
   "outputs": [
    {
     "name": "stderr",
     "output_type": "stream",
     "text": [
      "/home/taeyong/anaconda3/lib/python3.6/site-packages/h5py/__init__.py:36: FutureWarning: Conversion of the second argument of issubdtype from `float` to `np.floating` is deprecated. In future, it will be treated as `np.float64 == np.dtype(float).type`.\n",
      "  from ._conv import register_converters as _register_converters\n",
      "Using TensorFlow backend.\n",
      "/home/taeyong/anaconda3/lib/python3.6/importlib/_bootstrap.py:219: RuntimeWarning: compiletime version 3.5 of module 'tensorflow.python.framework.fast_tensor_util' does not match runtime version 3.6\n",
      "  return f(*args, **kwds)\n"
     ]
    }
   ],
   "source": [
    "import numpy as np\n",
    "import pandas as pd\n",
    "import matplotlib.pyplot as plt\n",
    "\n",
    "import keras\n",
    "\n",
    "# keras: for data processing\n",
    "from keras.preprocessing.text import Tokenizer\n",
    "from keras.preprocessing.sequence import pad_sequences\n",
    "from sklearn.model_selection import train_test_split\n",
    "from keras.utils.np_utils import to_categorical\n",
    "\n",
    "# keras: for Deep-learing\n",
    "from keras.layers import *\n",
    "from keras.models import *\n",
    "from keras.activations import *\n",
    "from keras.callbacks import EarlyStopping"
   ]
  },
  {
   "cell_type": "markdown",
   "metadata": {},
   "source": [
    "# data processing"
   ]
  },
  {
   "cell_type": "code",
   "execution_count": 2,
   "metadata": {},
   "outputs": [],
   "source": [
    "# data load\n",
    "data = pd.read_csv('./data/uci_news_aggregator.csv', delimiter = ',', skiprows = 1,\n",
    "                   names = ['ID', 'TITLE', 'URL', 'PUBLISHER', 'CATEGORY', 'STORY',\n",
    "                            'HOSTNAME', 'TIMESTAMP'], usecols=['TITLE', 'CATEGORY'])"
   ]
  },
  {
   "cell_type": "code",
   "execution_count": 3,
   "metadata": {},
   "outputs": [
    {
     "data": {
      "text/html": [
       "<div>\n",
       "<style scoped>\n",
       "    .dataframe tbody tr th:only-of-type {\n",
       "        vertical-align: middle;\n",
       "    }\n",
       "\n",
       "    .dataframe tbody tr th {\n",
       "        vertical-align: top;\n",
       "    }\n",
       "\n",
       "    .dataframe thead th {\n",
       "        text-align: right;\n",
       "    }\n",
       "</style>\n",
       "<table border=\"1\" class=\"dataframe\">\n",
       "  <thead>\n",
       "    <tr style=\"text-align: right;\">\n",
       "      <th></th>\n",
       "      <th>TITLE</th>\n",
       "      <th>CATEGORY</th>\n",
       "    </tr>\n",
       "  </thead>\n",
       "  <tbody>\n",
       "    <tr>\n",
       "      <th>0</th>\n",
       "      <td>Fed official says weak data caused by weather,...</td>\n",
       "      <td>b</td>\n",
       "    </tr>\n",
       "    <tr>\n",
       "      <th>1</th>\n",
       "      <td>Fed's Charles Plosser sees high bar for change...</td>\n",
       "      <td>b</td>\n",
       "    </tr>\n",
       "    <tr>\n",
       "      <th>2</th>\n",
       "      <td>US open: Stocks fall after Fed official hints ...</td>\n",
       "      <td>b</td>\n",
       "    </tr>\n",
       "    <tr>\n",
       "      <th>3</th>\n",
       "      <td>Fed risks falling 'behind the curve', Charles ...</td>\n",
       "      <td>b</td>\n",
       "    </tr>\n",
       "    <tr>\n",
       "      <th>4</th>\n",
       "      <td>Fed's Plosser: Nasty Weather Has Curbed Job Gr...</td>\n",
       "      <td>b</td>\n",
       "    </tr>\n",
       "  </tbody>\n",
       "</table>\n",
       "</div>"
      ],
      "text/plain": [
       "                                               TITLE CATEGORY\n",
       "0  Fed official says weak data caused by weather,...        b\n",
       "1  Fed's Charles Plosser sees high bar for change...        b\n",
       "2  US open: Stocks fall after Fed official hints ...        b\n",
       "3  Fed risks falling 'behind the curve', Charles ...        b\n",
       "4  Fed's Plosser: Nasty Weather Has Curbed Job Gr...        b"
      ]
     },
     "execution_count": 3,
     "metadata": {},
     "output_type": "execute_result"
    }
   ],
   "source": [
    "data.head(5)"
   ]
  },
  {
   "cell_type": "code",
   "execution_count": 4,
   "metadata": {},
   "outputs": [
    {
     "data": {
      "text/plain": [
       "(422419, 2)"
      ]
     },
     "execution_count": 4,
     "metadata": {},
     "output_type": "execute_result"
    }
   ],
   "source": [
    "np.array(data).shape"
   ]
  },
  {
   "cell_type": "code",
   "execution_count": 5,
   "metadata": {},
   "outputs": [],
   "source": [
    "# # remove punctuation and lowercase\n",
    "# def normalize_text(s):\n",
    "#     s = s.lower()\n",
    "    \n",
    "#     # remove punctuation that is not word-internal (e.g., hyphens, apostrophes)\n",
    "#     s = re.sub('\\s\\W',' ',s)\n",
    "#     s = re.sub('\\W\\s',' ',s)\n",
    "    \n",
    "#     # make sure we didn't introduce any double spaces\n",
    "#     s = re.sub('\\s+',' ',s)\n",
    "    \n",
    "#     return s"
   ]
  },
  {
   "cell_type": "code",
   "execution_count": 6,
   "metadata": {},
   "outputs": [],
   "source": [
    "# news['TEXT'] = [normalize_text(s) for s in news['TITLE']]"
   ]
  },
  {
   "cell_type": "markdown",
   "metadata": {},
   "source": [
    "# construct label"
   ]
  },
  {
   "cell_type": "code",
   "execution_count": 7,
   "metadata": {},
   "outputs": [],
   "source": [
    "#  [1. 0. 0. 0.] e\n",
    "#  [0. 1. 0. 0.] b\n",
    "#  [0. 0. 1. 0.] t\n",
    "#  [0. 0. 0. 1.] m"
   ]
  },
  {
   "cell_type": "code",
   "execution_count": 8,
   "metadata": {},
   "outputs": [
    {
     "data": {
      "text/plain": [
       "e    152469\n",
       "b    115967\n",
       "t    108344\n",
       "m     45639\n",
       "Name: CATEGORY, dtype: int64"
      ]
     },
     "execution_count": 8,
     "metadata": {},
     "output_type": "execute_result"
    }
   ],
   "source": [
    "data.CATEGORY.value_counts()"
   ]
  },
  {
   "cell_type": "code",
   "execution_count": 9,
   "metadata": {},
   "outputs": [],
   "source": [
    "# data slicing\n",
    "num_of_categories = 45000\n",
    "shuffled = data.reindex(np.random.permutation(data.index))\n",
    "\n",
    "e = shuffled[shuffled['CATEGORY'] == 'e'][:num_of_categories]\n",
    "b = shuffled[shuffled['CATEGORY'] == 'b'][:num_of_categories]\n",
    "t = shuffled[shuffled['CATEGORY'] == 't'][:num_of_categories]\n",
    "m = shuffled[shuffled['CATEGORY'] == 'm'][:num_of_categories]\n",
    "\n",
    "concated = pd.concat([e,b,t,m], ignore_index=True)"
   ]
  },
  {
   "cell_type": "code",
   "execution_count": 10,
   "metadata": {},
   "outputs": [
    {
     "data": {
      "text/plain": [
       "(180000, 2)"
      ]
     },
     "execution_count": 10,
     "metadata": {},
     "output_type": "execute_result"
    }
   ],
   "source": [
    "np.array(concated).shape"
   ]
  },
  {
   "cell_type": "code",
   "execution_count": 11,
   "metadata": {},
   "outputs": [],
   "source": [
    "# label col\n",
    "concated['LABEL'] = 0"
   ]
  },
  {
   "cell_type": "code",
   "execution_count": 12,
   "metadata": {},
   "outputs": [
    {
     "data": {
      "text/html": [
       "<div>\n",
       "<style scoped>\n",
       "    .dataframe tbody tr th:only-of-type {\n",
       "        vertical-align: middle;\n",
       "    }\n",
       "\n",
       "    .dataframe tbody tr th {\n",
       "        vertical-align: top;\n",
       "    }\n",
       "\n",
       "    .dataframe thead th {\n",
       "        text-align: right;\n",
       "    }\n",
       "</style>\n",
       "<table border=\"1\" class=\"dataframe\">\n",
       "  <thead>\n",
       "    <tr style=\"text-align: right;\">\n",
       "      <th></th>\n",
       "      <th>TITLE</th>\n",
       "      <th>CATEGORY</th>\n",
       "      <th>LABEL</th>\n",
       "    </tr>\n",
       "  </thead>\n",
       "  <tbody>\n",
       "    <tr>\n",
       "      <th>0</th>\n",
       "      <td>'The Bachelorette:' Ghent out</td>\n",
       "      <td>e</td>\n",
       "      <td>0</td>\n",
       "    </tr>\n",
       "    <tr>\n",
       "      <th>1</th>\n",
       "      <td>Little girl doesn't want her baby brother to g...</td>\n",
       "      <td>e</td>\n",
       "      <td>0</td>\n",
       "    </tr>\n",
       "    <tr>\n",
       "      <th>2</th>\n",
       "      <td>Bachelorette Andi Dorfman Reacts To Eric Hill'...</td>\n",
       "      <td>e</td>\n",
       "      <td>0</td>\n",
       "    </tr>\n",
       "    <tr>\n",
       "      <th>3</th>\n",
       "      <td>My Big Fat Greek Wedding Sequel Is On</td>\n",
       "      <td>e</td>\n",
       "      <td>0</td>\n",
       "    </tr>\n",
       "    <tr>\n",
       "      <th>4</th>\n",
       "      <td>Rocky Reunion: Kendra Wilkinson and Husband Ha...</td>\n",
       "      <td>e</td>\n",
       "      <td>0</td>\n",
       "    </tr>\n",
       "  </tbody>\n",
       "</table>\n",
       "</div>"
      ],
      "text/plain": [
       "                                               TITLE CATEGORY  LABEL\n",
       "0                      'The Bachelorette:' Ghent out        e      0\n",
       "1  Little girl doesn't want her baby brother to g...        e      0\n",
       "2  Bachelorette Andi Dorfman Reacts To Eric Hill'...        e      0\n",
       "3              My Big Fat Greek Wedding Sequel Is On        e      0\n",
       "4  Rocky Reunion: Kendra Wilkinson and Husband Ha...        e      0"
      ]
     },
     "execution_count": 12,
     "metadata": {},
     "output_type": "execute_result"
    }
   ],
   "source": [
    "concated.head(5)"
   ]
  },
  {
   "cell_type": "code",
   "execution_count": 13,
   "metadata": {},
   "outputs": [
    {
     "data": {
      "text/plain": [
       "(180000, 3)"
      ]
     },
     "execution_count": 13,
     "metadata": {},
     "output_type": "execute_result"
    }
   ],
   "source": [
    "np.array(concated).shape"
   ]
  },
  {
   "cell_type": "code",
   "execution_count": 14,
   "metadata": {},
   "outputs": [],
   "source": [
    "concated = concated.reindex(np.random.permutation(concated.index))\n",
    "\n",
    "concated.loc[concated['CATEGORY'] == 'e', 'LABEL'] = 0\n",
    "concated.loc[concated['CATEGORY'] == 'b', 'LABEL'] = 1\n",
    "concated.loc[concated['CATEGORY'] == 't', 'LABEL'] = 2\n",
    "concated.loc[concated['CATEGORY'] == 'm', 'LABEL'] = 3"
   ]
  },
  {
   "cell_type": "code",
   "execution_count": 15,
   "metadata": {},
   "outputs": [
    {
     "data": {
      "text/plain": [
       "81249     1\n",
       "50865     1\n",
       "51925     1\n",
       "42297     0\n",
       "138909    3\n",
       "127304    2\n",
       "68645     1\n",
       "57230     1\n",
       "164987    3\n",
       "38241     0\n",
       "Name: LABEL, dtype: int64"
      ]
     },
     "execution_count": 15,
     "metadata": {},
     "output_type": "execute_result"
    }
   ],
   "source": [
    "concated['LABEL'][:10]"
   ]
  },
  {
   "cell_type": "code",
   "execution_count": 16,
   "metadata": {},
   "outputs": [],
   "source": [
    "# one-hot encoding\n",
    "labels = to_categorical(concated['LABEL'], num_classes=4)"
   ]
  },
  {
   "cell_type": "code",
   "execution_count": 17,
   "metadata": {},
   "outputs": [
    {
     "name": "stdout",
     "output_type": "stream",
     "text": [
      "[[0. 1. 0. 0.]\n",
      " [0. 1. 0. 0.]\n",
      " [0. 1. 0. 0.]\n",
      " [1. 0. 0. 0.]\n",
      " [0. 0. 0. 1.]\n",
      " [0. 0. 1. 0.]\n",
      " [0. 1. 0. 0.]\n",
      " [0. 1. 0. 0.]\n",
      " [0. 0. 0. 1.]\n",
      " [1. 0. 0. 0.]]\n"
     ]
    }
   ],
   "source": [
    "print(labels[:10])"
   ]
  },
  {
   "cell_type": "markdown",
   "metadata": {},
   "source": [
    "# construct train & test dataset"
   ]
  },
  {
   "cell_type": "code",
   "execution_count": 18,
   "metadata": {},
   "outputs": [],
   "source": [
    "n_most_common_words = 8000\n",
    "max_len = 128"
   ]
  },
  {
   "cell_type": "code",
   "execution_count": 19,
   "metadata": {},
   "outputs": [],
   "source": [
    "tokenizer = Tokenizer(num_words=n_most_common_words, char_level=True, filters='!\"#$%&()*+,-./:;<=>?@[\\]^_`{|}~', lower=True)"
   ]
  },
  {
   "cell_type": "code",
   "execution_count": 20,
   "metadata": {},
   "outputs": [
    {
     "data": {
      "text/plain": [
       "array(['Heroic Harvard Grad Invents 3D Printer for Eyeshadows and Lipsticks',\n",
       "       'Rothman: Yet Another Crazy Conservative Conspiracy Theory Proven Correct',\n",
       "       'Business as usual?', ...,\n",
       "       'U.S. Economy Grew by a 4% Annual Pace in the Second Quarter',\n",
       "       'Investor Sentiment on Tech Goes From Giddy to Glum',\n",
       "       'La Quinta Prices IPO Below Range'], dtype=object)"
      ]
     },
     "execution_count": 20,
     "metadata": {},
     "output_type": "execute_result"
    }
   ],
   "source": [
    "concated['TITLE'].values"
   ]
  },
  {
   "cell_type": "code",
   "execution_count": 21,
   "metadata": {},
   "outputs": [],
   "source": [
    "tokenizer.fit_on_texts(concated['TITLE'].values)"
   ]
  },
  {
   "cell_type": "code",
   "execution_count": 22,
   "metadata": {},
   "outputs": [],
   "source": [
    "sequences = tokenizer.texts_to_sequences(concated['TITLE'].values)"
   ]
  },
  {
   "cell_type": "code",
   "execution_count": 23,
   "metadata": {},
   "outputs": [
    {
     "data": {
      "text/plain": [
       "[[41,\n",
       "  2,\n",
       "  8,\n",
       "  4,\n",
       "  6,\n",
       "  12,\n",
       "  1,\n",
       "  41,\n",
       "  3,\n",
       "  8,\n",
       "  27,\n",
       "  3,\n",
       "  8,\n",
       "  11,\n",
       "  1,\n",
       "  38,\n",
       "  8,\n",
       "  3,\n",
       "  11,\n",
       "  1,\n",
       "  39,\n",
       "  9,\n",
       "  27,\n",
       "  2,\n",
       "  9,\n",
       "  7,\n",
       "  5,\n",
       "  1,\n",
       "  59,\n",
       "  33,\n",
       "  1,\n",
       "  32,\n",
       "  8,\n",
       "  6,\n",
       "  9,\n",
       "  7,\n",
       "  2,\n",
       "  8,\n",
       "  1,\n",
       "  18,\n",
       "  4,\n",
       "  8,\n",
       "  1,\n",
       "  37,\n",
       "  19,\n",
       "  2,\n",
       "  5,\n",
       "  13,\n",
       "  3,\n",
       "  11,\n",
       "  4,\n",
       "  22,\n",
       "  5,\n",
       "  1,\n",
       "  3,\n",
       "  9,\n",
       "  11,\n",
       "  1,\n",
       "  46,\n",
       "  6,\n",
       "  17,\n",
       "  5,\n",
       "  7,\n",
       "  6,\n",
       "  12,\n",
       "  25,\n",
       "  5],\n",
       " [35,\n",
       "  4,\n",
       "  7,\n",
       "  13,\n",
       "  16,\n",
       "  3,\n",
       "  9,\n",
       "  44,\n",
       "  1,\n",
       "  57,\n",
       "  2,\n",
       "  7,\n",
       "  1,\n",
       "  24,\n",
       "  9,\n",
       "  4,\n",
       "  7,\n",
       "  13,\n",
       "  2,\n",
       "  8,\n",
       "  1,\n",
       "  28,\n",
       "  8,\n",
       "  3,\n",
       "  55,\n",
       "  19,\n",
       "  1,\n",
       "  28,\n",
       "  4,\n",
       "  9,\n",
       "  5,\n",
       "  2,\n",
       "  8,\n",
       "  27,\n",
       "  3,\n",
       "  7,\n",
       "  6,\n",
       "  27,\n",
       "  2,\n",
       "  1,\n",
       "  28,\n",
       "  4,\n",
       "  9,\n",
       "  5,\n",
       "  17,\n",
       "  6,\n",
       "  8,\n",
       "  3,\n",
       "  12,\n",
       "  19,\n",
       "  1,\n",
       "  29,\n",
       "  13,\n",
       "  2,\n",
       "  4,\n",
       "  8,\n",
       "  19,\n",
       "  1,\n",
       "  32,\n",
       "  8,\n",
       "  4,\n",
       "  27,\n",
       "  2,\n",
       "  9,\n",
       "  1,\n",
       "  28,\n",
       "  4,\n",
       "  8,\n",
       "  8,\n",
       "  2,\n",
       "  12,\n",
       "  7],\n",
       " [31, 14, 5, 6, 9, 2, 5, 5, 1, 3, 5, 1, 14, 5, 14, 3, 10, 61],\n",
       " [32,\n",
       "  6,\n",
       "  17,\n",
       "  17,\n",
       "  3,\n",
       "  1,\n",
       "  30,\n",
       "  6,\n",
       "  11,\n",
       "  11,\n",
       "  10,\n",
       "  2,\n",
       "  7,\n",
       "  4,\n",
       "  9,\n",
       "  1,\n",
       "  6,\n",
       "  9,\n",
       "  7,\n",
       "  2,\n",
       "  8,\n",
       "  27,\n",
       "  6,\n",
       "  2,\n",
       "  22,\n",
       "  44,\n",
       "  1,\n",
       "  35,\n",
       "  4,\n",
       "  19,\n",
       "  3,\n",
       "  10,\n",
       "  1,\n",
       "  21,\n",
       "  8,\n",
       "  6,\n",
       "  11,\n",
       "  2,\n",
       "  5,\n",
       "  16,\n",
       "  3,\n",
       "  6,\n",
       "  11,\n",
       "  1,\n",
       "  11,\n",
       "  8,\n",
       "  2,\n",
       "  5,\n",
       "  5,\n",
       "  1,\n",
       "  22,\n",
       "  3,\n",
       "  5,\n",
       "  1,\n",
       "  60,\n",
       "  14,\n",
       "  5,\n",
       "  7,\n",
       "  1,\n",
       "  5,\n",
       "  14,\n",
       "  17,\n",
       "  17,\n",
       "  4,\n",
       "  5,\n",
       "  2,\n",
       "  11,\n",
       "  1,\n",
       "  7,\n",
       "  4,\n",
       "  1,\n",
       "  21,\n",
       "  10,\n",
       "  2,\n",
       "  9,\n",
       "  11,\n",
       "  1,\n",
       "  6,\n",
       "  9],\n",
       " [20,\n",
       "  7,\n",
       "  14,\n",
       "  11,\n",
       "  19,\n",
       "  44,\n",
       "  1,\n",
       "  34,\n",
       "  2,\n",
       "  22,\n",
       "  2,\n",
       "  8,\n",
       "  1,\n",
       "  17,\n",
       "  3,\n",
       "  6,\n",
       "  9,\n",
       "  25,\n",
       "  6,\n",
       "  10,\n",
       "  10,\n",
       "  2,\n",
       "  8,\n",
       "  1,\n",
       "  11,\n",
       "  2,\n",
       "  3,\n",
       "  7,\n",
       "  13,\n",
       "  5,\n",
       "  1,\n",
       "  6,\n",
       "  9,\n",
       "  1,\n",
       "  5,\n",
       "  7,\n",
       "  3,\n",
       "  7,\n",
       "  2,\n",
       "  5,\n",
       "  1,\n",
       "  22,\n",
       "  6,\n",
       "  7,\n",
       "  13,\n",
       "  1,\n",
       "  16,\n",
       "  2,\n",
       "  11,\n",
       "  6,\n",
       "  12,\n",
       "  3,\n",
       "  10,\n",
       "  1,\n",
       "  16,\n",
       "  3,\n",
       "  8,\n",
       "  6,\n",
       "  60,\n",
       "  14,\n",
       "  3,\n",
       "  9,\n",
       "  3],\n",
       " [41,\n",
       "  29,\n",
       "  28,\n",
       "  1,\n",
       "  40,\n",
       "  9,\n",
       "  2,\n",
       "  1,\n",
       "  66,\n",
       "  30,\n",
       "  65,\n",
       "  68,\n",
       "  1,\n",
       "  20,\n",
       "  3,\n",
       "  10,\n",
       "  2,\n",
       "  5,\n",
       "  1,\n",
       "  30,\n",
       "  6,\n",
       "  15,\n",
       "  13,\n",
       "  7,\n",
       "  1,\n",
       "  41,\n",
       "  3,\n",
       "  27,\n",
       "  2,\n",
       "  1,\n",
       "  41,\n",
       "  6,\n",
       "  7,\n",
       "  1,\n",
       "  58,\n",
       "  47,\n",
       "  47,\n",
       "  47,\n",
       "  47,\n",
       "  47,\n",
       "  1,\n",
       "  24,\n",
       "  10,\n",
       "  8,\n",
       "  2,\n",
       "  3,\n",
       "  11,\n",
       "  19],\n",
       " [43,\n",
       "  2,\n",
       "  22,\n",
       "  1,\n",
       "  5,\n",
       "  4,\n",
       "  10,\n",
       "  3,\n",
       "  8,\n",
       "  1,\n",
       "  17,\n",
       "  3,\n",
       "  9,\n",
       "  2,\n",
       "  10,\n",
       "  5,\n",
       "  1,\n",
       "  6,\n",
       "  9,\n",
       "  1,\n",
       "  30,\n",
       "  24,\n",
       "  1,\n",
       "  7,\n",
       "  4,\n",
       "  1,\n",
       "  17,\n",
       "  4,\n",
       "  22,\n",
       "  2,\n",
       "  8,\n",
       "  1,\n",
       "  59,\n",
       "  47,\n",
       "  47,\n",
       "  47,\n",
       "  1,\n",
       "  13,\n",
       "  4,\n",
       "  16,\n",
       "  2,\n",
       "  5],\n",
       " [31,\n",
       "  3,\n",
       "  9,\n",
       "  25,\n",
       "  1,\n",
       "  4,\n",
       "  18,\n",
       "  1,\n",
       "  37,\n",
       "  9,\n",
       "  15,\n",
       "  10,\n",
       "  3,\n",
       "  9,\n",
       "  11,\n",
       "  1,\n",
       "  4,\n",
       "  27,\n",
       "  2,\n",
       "  8,\n",
       "  13,\n",
       "  3,\n",
       "  14,\n",
       "  10,\n",
       "  5,\n",
       "  1,\n",
       "  8,\n",
       "  2,\n",
       "  15,\n",
       "  14,\n",
       "  10,\n",
       "  3,\n",
       "  7,\n",
       "  4,\n",
       "  8,\n",
       "  19,\n",
       "  1,\n",
       "  4,\n",
       "  27,\n",
       "  2,\n",
       "  8,\n",
       "  5,\n",
       "  6,\n",
       "  15,\n",
       "  13,\n",
       "  7,\n",
       "  1,\n",
       "  6,\n",
       "  9,\n",
       "  1,\n",
       "  8,\n",
       "  2,\n",
       "  5,\n",
       "  17,\n",
       "  4,\n",
       "  9,\n",
       "  5,\n",
       "  2,\n",
       "  1,\n",
       "  7,\n",
       "  4,\n",
       "  1,\n",
       "  34,\n",
       "  70,\n",
       "  1,\n",
       "  3,\n",
       "  10,\n",
       "  10,\n",
       "  2,\n",
       "  15,\n",
       "  3,\n",
       "  7,\n",
       "  6,\n",
       "  4,\n",
       "  9,\n",
       "  5],\n",
       " [34,\n",
       "  6,\n",
       "  10,\n",
       "  6,\n",
       "  17,\n",
       "  6,\n",
       "  9,\n",
       "  3,\n",
       "  1,\n",
       "  9,\n",
       "  14,\n",
       "  8,\n",
       "  5,\n",
       "  2,\n",
       "  1,\n",
       "  18,\n",
       "  8,\n",
       "  4,\n",
       "  16,\n",
       "  1,\n",
       "  43,\n",
       "  2,\n",
       "  15,\n",
       "  8,\n",
       "  4,\n",
       "  5,\n",
       "  1,\n",
       "  40,\n",
       "  12,\n",
       "  12,\n",
       "  6,\n",
       "  11,\n",
       "  2,\n",
       "  9,\n",
       "  7,\n",
       "  3,\n",
       "  10,\n",
       "  1,\n",
       "  11,\n",
       "  6,\n",
       "  2,\n",
       "  5,\n",
       "  1,\n",
       "  4,\n",
       "  18,\n",
       "  1,\n",
       "  30,\n",
       "  37,\n",
       "  35,\n",
       "  20,\n",
       "  45,\n",
       "  28,\n",
       "  4,\n",
       "  54,\n",
       "  1,\n",
       "  6,\n",
       "  9,\n",
       "  1,\n",
       "  20,\n",
       "  3,\n",
       "  14,\n",
       "  11,\n",
       "  6,\n",
       "  1,\n",
       "  24,\n",
       "  8,\n",
       "  3,\n",
       "  21,\n",
       "  6,\n",
       "  3],\n",
       " [35,\n",
       "  39,\n",
       "  32,\n",
       "  1,\n",
       "  33,\n",
       "  6,\n",
       "  12,\n",
       "  25,\n",
       "  1,\n",
       "  36,\n",
       "  3,\n",
       "  15,\n",
       "  9,\n",
       "  2,\n",
       "  8,\n",
       "  44,\n",
       "  1,\n",
       "  43,\n",
       "  6,\n",
       "  15,\n",
       "  13,\n",
       "  7,\n",
       "  16,\n",
       "  3,\n",
       "  8,\n",
       "  6,\n",
       "  5,\n",
       "  13,\n",
       "  10,\n",
       "  19,\n",
       "  1,\n",
       "  38,\n",
       "  4,\n",
       "  4,\n",
       "  11,\n",
       "  1,\n",
       "  35,\n",
       "  4,\n",
       "  12,\n",
       "  25,\n",
       "  1,\n",
       "  38,\n",
       "  14,\n",
       "  6,\n",
       "  7,\n",
       "  3,\n",
       "  8,\n",
       "  6,\n",
       "  5,\n",
       "  7,\n",
       "  1,\n",
       "  36,\n",
       "  3,\n",
       "  5,\n",
       "  1,\n",
       "  64,\n",
       "  50]]"
      ]
     },
     "execution_count": 23,
     "metadata": {},
     "output_type": "execute_result"
    }
   ],
   "source": [
    "sequences[:10]"
   ]
  },
  {
   "cell_type": "code",
   "execution_count": 24,
   "metadata": {},
   "outputs": [],
   "source": [
    "word_index = tokenizer.word_index"
   ]
  },
  {
   "cell_type": "code",
   "execution_count": 25,
   "metadata": {},
   "outputs": [
    {
     "data": {
      "text/plain": [
       "{' ': 1,\n",
       " 'e': 2,\n",
       " 'a': 3,\n",
       " 'o': 4,\n",
       " 's': 5,\n",
       " 'i': 6,\n",
       " 't': 7,\n",
       " 'r': 8,\n",
       " 'n': 9,\n",
       " 'l': 10,\n",
       " 'd': 11,\n",
       " 'c': 12,\n",
       " 'h': 13,\n",
       " 'u': 14,\n",
       " 'g': 15,\n",
       " 'm': 16,\n",
       " 'p': 17,\n",
       " 'f': 18,\n",
       " 'y': 19,\n",
       " 'S': 20,\n",
       " 'b': 21,\n",
       " 'w': 22,\n",
       " '.': 23,\n",
       " 'A': 24,\n",
       " 'k': 25,\n",
       " \"'\": 26,\n",
       " 'v': 27,\n",
       " 'C': 28,\n",
       " 'T': 29,\n",
       " 'M': 30,\n",
       " 'B': 31,\n",
       " 'P': 32,\n",
       " 'D': 33,\n",
       " 'F': 34,\n",
       " 'R': 35,\n",
       " 'W': 36,\n",
       " 'E': 37,\n",
       " 'G': 38,\n",
       " 'I': 39,\n",
       " 'O': 40,\n",
       " 'H': 41,\n",
       " ',': 42,\n",
       " 'N': 43,\n",
       " ':': 44,\n",
       " '-': 45,\n",
       " 'L': 46,\n",
       " '0': 47,\n",
       " 'U': 48,\n",
       " 'x': 49,\n",
       " '1': 50,\n",
       " 'K': 51,\n",
       " '2': 52,\n",
       " 'J': 53,\n",
       " 'V': 54,\n",
       " 'z': 55,\n",
       " '4': 56,\n",
       " 'Y': 57,\n",
       " '5': 58,\n",
       " '3': 59,\n",
       " 'j': 60,\n",
       " '?': 61,\n",
       " '$': 62,\n",
       " 'q': 63,\n",
       " '7': 64,\n",
       " '8': 65,\n",
       " '(': 66,\n",
       " '6': 67,\n",
       " ')': 68,\n",
       " '9': 69,\n",
       " 'X': 70,\n",
       " '\"': 71,\n",
       " '&': 72,\n",
       " 'Q': 73,\n",
       " 'Z': 74,\n",
       " ';': 75,\n",
       " '!': 76,\n",
       " '/': 77,\n",
       " '%': 78,\n",
       " '–': 79,\n",
       " '“': 80,\n",
       " '”': 81,\n",
       " '—': 82,\n",
       " '[': 83,\n",
       " ']': 84,\n",
       " '+': 85,\n",
       " '#': 86,\n",
       " '\\t': 87,\n",
       " 'é': 88,\n",
       " '|': 89,\n",
       " '£': 90,\n",
       " '…': 91,\n",
       " '`': 92,\n",
       " '»': 93,\n",
       " '′': 94,\n",
       " '*': 95,\n",
       " '>': 96,\n",
       " '€': 97,\n",
       " '\\u200b': 98,\n",
       " '\\n': 99,\n",
       " '@': 100,\n",
       " '®': 101,\n",
       " 'ö': 102,\n",
       " '™': 103,\n",
       " 'â': 104,\n",
       " 'á': 105,\n",
       " '″': 106,\n",
       " 'ا': 107,\n",
       " '=': 108,\n",
       " '_': 109,\n",
       " '‚': 110,\n",
       " '\\u200f': 111,\n",
       " '´': 112,\n",
       " '½': 113,\n",
       " '¥': 114,\n",
       " 'ë': 115,\n",
       " '\\\\': 116,\n",
       " 'í': 117,\n",
       " 'ی': 118,\n",
       " '˜': 119,\n",
       " 'ر': 120,\n",
       " '<': 121,\n",
       " 'è': 122,\n",
       " '×': 123,\n",
       " 'ó': 124,\n",
       " '•': 125,\n",
       " 'ن': 126,\n",
       " 'و': 127,\n",
       " '이': 128,\n",
       " '기': 129,\n",
       " 'م': 130,\n",
       " '›': 131,\n",
       " 'ä': 132,\n",
       " 'à': 133,\n",
       " '~': 134,\n",
       " '}': 135,\n",
       " 'ñ': 136,\n",
       " 'ب': 137,\n",
       " 'ک': 138,\n",
       " 'س': 139,\n",
       " 'ے': 140,\n",
       " 'ï': 141,\n",
       " '{': 142,\n",
       " 'Ã': 143,\n",
       " '복': 144,\n",
       " '사': 145,\n",
       " '줄': 146,\n",
       " '레': 147,\n",
       " '어': 148,\n",
       " '닫': 149,\n",
       " '«': 150,\n",
       " '\\ufeff': 151,\n",
       " '¿': 152,\n",
       " '¢': 153,\n",
       " '©': 154,\n",
       " 'ئ': 155,\n",
       " 'ہ': 156,\n",
       " 'ت': 157,\n",
       " '¡': 158,\n",
       " '¹': 159,\n",
       " 'œ': 160,\n",
       " 'Ȼ': 161,\n",
       " 'ü': 162,\n",
       " 'ê': 163,\n",
       " 'د': 164,\n",
       " 'ش': 165,\n",
       " 'ع': 166,\n",
       " '¾': 167,\n",
       " '^': 168,\n",
       " 'в': 169,\n",
       " 'Ђ': 170,\n",
       " 'å': 171,\n",
       " '⁸': 172,\n",
       " 'ٹ': 173,\n",
       " 'ã': 174,\n",
       " 'С': 175,\n",
       " '【': 176,\n",
       " '】': 177,\n",
       " 'Ä': 178,\n",
       " 'Ÿ': 179,\n",
       " '‹': 180,\n",
       " '巴': 181,\n",
       " '丢': 182,\n",
       " '草': 183,\n",
       " 'ß': 184,\n",
       " 'ں': 185,\n",
       " 'ھ': 186,\n",
       " 'ص': 187,\n",
       " 'ل': 188,\n",
       " 'ث': 189,\n",
       " '°': 190,\n",
       " '؛': 191,\n",
       " 'ğ': 192,\n",
       " '₂': 193,\n",
       " 'Ö': 194,\n",
       " '₹': 195}"
      ]
     },
     "execution_count": 25,
     "metadata": {},
     "output_type": "execute_result"
    }
   ],
   "source": [
    "word_index"
   ]
  },
  {
   "cell_type": "code",
   "execution_count": 26,
   "metadata": {},
   "outputs": [],
   "source": [
    "X = pad_sequences(sequences, maxlen=max_len)"
   ]
  },
  {
   "cell_type": "code",
   "execution_count": 27,
   "metadata": {},
   "outputs": [
    {
     "name": "stdout",
     "output_type": "stream",
     "text": [
      "(180000, 128)\n",
      "(180000, 4)\n"
     ]
    }
   ],
   "source": [
    "print(X.shape)\n",
    "print(labels.shape)"
   ]
  },
  {
   "cell_type": "code",
   "execution_count": 28,
   "metadata": {},
   "outputs": [],
   "source": [
    "X_train, X_test, y_train, y_test = train_test_split(X , labels, test_size=0.2, random_state=42)"
   ]
  },
  {
   "cell_type": "code",
   "execution_count": 29,
   "metadata": {},
   "outputs": [],
   "source": [
    "# X_train = np.expand_dims(X_train, -1)\n",
    "# X_test = np.expand_dims(X_test, -1)\n",
    "# y_train = np.expand_dims(X_train, -1)\n",
    "# y_test = np.expand_dims(X_test, -1)"
   ]
  },
  {
   "cell_type": "code",
   "execution_count": 30,
   "metadata": {},
   "outputs": [
    {
     "name": "stdout",
     "output_type": "stream",
     "text": [
      "((144000, 128), (144000, 4), (36000, 128), (36000, 4))\n"
     ]
    }
   ],
   "source": [
    "print((X_train.shape, y_train.shape, X_test.shape, y_test.shape))"
   ]
  },
  {
   "cell_type": "markdown",
   "metadata": {},
   "source": [
    "# model"
   ]
  },
  {
   "cell_type": "code",
   "execution_count": 31,
   "metadata": {},
   "outputs": [],
   "source": [
    "# model param\n",
    "emb_dim = 128"
   ]
  },
  {
   "cell_type": "code",
   "execution_count": 32,
   "metadata": {},
   "outputs": [],
   "source": [
    "def get_model():\n",
    "    inp = Input(shape=(max_len,))\n",
    "    emb = Embedding(n_most_common_words, emb_dim, input_length=max_len)(inp)\n",
    "    _ = Dropout(0.2)(emb)\n",
    "    _ = Conv1D(256, 3, padding='valid', activation='relu', strides=1)(_)\n",
    "    _ = GlobalMaxPooling1D()(_)\n",
    "    _ = Dense(128, activation='relu')(_)\n",
    "    _ = Dropout(0.2)(_)\n",
    "    out = Dense(4, activation='softmax')(_)\n",
    "    \n",
    "    return Model(inp, out)"
   ]
  },
  {
   "cell_type": "code",
   "execution_count": 33,
   "metadata": {},
   "outputs": [],
   "source": [
    "model = get_model()"
   ]
  },
  {
   "cell_type": "code",
   "execution_count": 34,
   "metadata": {},
   "outputs": [
    {
     "name": "stdout",
     "output_type": "stream",
     "text": [
      "_________________________________________________________________\n",
      "Layer (type)                 Output Shape              Param #   \n",
      "=================================================================\n",
      "input_1 (InputLayer)         (None, 128)               0         \n",
      "_________________________________________________________________\n",
      "embedding_1 (Embedding)      (None, 128, 128)          1024000   \n",
      "_________________________________________________________________\n",
      "dropout_1 (Dropout)          (None, 128, 128)          0         \n",
      "_________________________________________________________________\n",
      "conv1d_1 (Conv1D)            (None, 126, 256)          98560     \n",
      "_________________________________________________________________\n",
      "global_max_pooling1d_1 (Glob (None, 256)               0         \n",
      "_________________________________________________________________\n",
      "dense_1 (Dense)              (None, 128)               32896     \n",
      "_________________________________________________________________\n",
      "dropout_2 (Dropout)          (None, 128)               0         \n",
      "_________________________________________________________________\n",
      "dense_2 (Dense)              (None, 4)                 516       \n",
      "=================================================================\n",
      "Total params: 1,155,972\n",
      "Trainable params: 1,155,972\n",
      "Non-trainable params: 0\n",
      "_________________________________________________________________\n"
     ]
    }
   ],
   "source": [
    "model.summary()"
   ]
  },
  {
   "cell_type": "markdown",
   "metadata": {},
   "source": [
    "# train"
   ]
  },
  {
   "cell_type": "code",
   "execution_count": 35,
   "metadata": {},
   "outputs": [],
   "source": [
    "# train param\n",
    "epochs = 15\n",
    "batch_size = 64"
   ]
  },
  {
   "cell_type": "code",
   "execution_count": 36,
   "metadata": {},
   "outputs": [],
   "source": [
    "model.compile(optimizer='adam', loss='categorical_crossentropy', metrics=['acc'])"
   ]
  },
  {
   "cell_type": "code",
   "execution_count": 37,
   "metadata": {},
   "outputs": [
    {
     "name": "stdout",
     "output_type": "stream",
     "text": [
      "Train on 115200 samples, validate on 28800 samples\n",
      "Epoch 1/15\n",
      "115200/115200 [==============================] - 22s 189us/step - loss: 0.7433 - acc: 0.7076 - val_loss: 0.6149 - val_acc: 0.7743\n",
      "Epoch 2/15\n",
      "115200/115200 [==============================] - 17s 147us/step - loss: 0.5239 - acc: 0.8079 - val_loss: 0.4690 - val_acc: 0.8293\n",
      "Epoch 3/15\n",
      "115200/115200 [==============================] - 17s 148us/step - loss: 0.4689 - acc: 0.8293 - val_loss: 0.4192 - val_acc: 0.8489\n",
      "Epoch 4/15\n",
      "115200/115200 [==============================] - 17s 148us/step - loss: 0.4334 - acc: 0.8423 - val_loss: 0.4379 - val_acc: 0.8397\n",
      "Epoch 5/15\n",
      "115200/115200 [==============================] - 17s 148us/step - loss: 0.4094 - acc: 0.8515 - val_loss: 0.3897 - val_acc: 0.8580\n",
      "Epoch 6/15\n",
      "115200/115200 [==============================] - 17s 152us/step - loss: 0.3917 - acc: 0.8585 - val_loss: 0.3868 - val_acc: 0.8592\n",
      "Epoch 7/15\n",
      "115200/115200 [==============================] - 17s 152us/step - loss: 0.3778 - acc: 0.8627 - val_loss: 0.3726 - val_acc: 0.8668\n",
      "Epoch 8/15\n",
      "115200/115200 [==============================] - 17s 152us/step - loss: 0.3668 - acc: 0.8670 - val_loss: 0.3656 - val_acc: 0.8682\n",
      "Epoch 9/15\n",
      "115200/115200 [==============================] - 17s 152us/step - loss: 0.3547 - acc: 0.8725 - val_loss: 0.3640 - val_acc: 0.8710\n",
      "Epoch 10/15\n",
      "115200/115200 [==============================] - 17s 151us/step - loss: 0.3464 - acc: 0.8744 - val_loss: 0.3556 - val_acc: 0.8741\n",
      "Epoch 11/15\n",
      "115200/115200 [==============================] - 17s 152us/step - loss: 0.3347 - acc: 0.8787 - val_loss: 0.3502 - val_acc: 0.8760\n",
      "Epoch 12/15\n",
      "115200/115200 [==============================] - 17s 151us/step - loss: 0.3278 - acc: 0.8816 - val_loss: 0.3437 - val_acc: 0.8793\n",
      "Epoch 13/15\n",
      "115200/115200 [==============================] - 17s 151us/step - loss: 0.3202 - acc: 0.8846 - val_loss: 0.3354 - val_acc: 0.8831\n",
      "Epoch 14/15\n",
      "115200/115200 [==============================] - 17s 152us/step - loss: 0.3133 - acc: 0.8866 - val_loss: 0.3518 - val_acc: 0.8769\n",
      "Epoch 15/15\n",
      "115200/115200 [==============================] - 17s 151us/step - loss: 0.3062 - acc: 0.8891 - val_loss: 0.3454 - val_acc: 0.8811\n"
     ]
    }
   ],
   "source": [
    "history = model.fit(X_train, y_train, epochs=epochs, batch_size=batch_size,validation_split=0.2,callbacks=[EarlyStopping(monitor='val_loss',patience=7, min_delta=0.0001)])"
   ]
  },
  {
   "cell_type": "code",
   "execution_count": 38,
   "metadata": {},
   "outputs": [],
   "source": [
    "model.save('model.h5')"
   ]
  },
  {
   "cell_type": "markdown",
   "metadata": {},
   "source": [
    "# test"
   ]
  },
  {
   "cell_type": "code",
   "execution_count": 39,
   "metadata": {},
   "outputs": [],
   "source": [
    "acc = history.history['acc']\n",
    "val_acc = history.history['val_acc']\n",
    "loss = history.history['loss']\n",
    "val_loss = history.history['val_loss']\n",
    "\n",
    "epochs = range(1, len(acc) + 1)"
   ]
  },
  {
   "cell_type": "code",
   "execution_count": 40,
   "metadata": {},
   "outputs": [
    {
     "data": {
      "image/png": "[encoded data removed]",
      "text/plain": [
       "<Figure size 432x288 with 1 Axes>"
      ]
     },
     "metadata": {},
     "output_type": "display_data"
    },
    {
     "data": {
      "image/png": "[encoded data removed]",
      "text/plain": [
       "<Figure size 432x288 with 1 Axes>"
      ]
     },
     "metadata": {},
     "output_type": "display_data"
    }
   ],
   "source": [
    "# visualization\n",
    "plt.plot(epochs, acc, 'bo', label='Training acc')\n",
    "plt.plot(epochs, val_acc, 'b', label='Validation acc')\n",
    "plt.title('Training and validation accuracy')\n",
    "plt.legend()\n",
    "\n",
    "plt.figure()\n",
    "\n",
    "plt.plot(epochs, loss, 'bo', label='Training loss')\n",
    "plt.plot(epochs, val_loss, 'b', label='Validation loss')\n",
    "plt.title('Training and validation loss')\n",
    "plt.legend()\n",
    "\n",
    "plt.show()"
   ]
  },
  {
   "cell_type": "code",
   "execution_count": 41,
   "metadata": {},
   "outputs": [
    {
     "name": "stdout",
     "output_type": "stream",
     "text": [
      "['Regular fast food eating linked to fertility issues in women']\n",
      "[[3.6170029e-05 3.4474377e-03 3.2855687e-04 9.9618787e-01]] health\n",
      "['Chinese ethnic group biggest earners in the UK']\n",
      "[[0.00413303 0.87792736 0.06605796 0.05188173]] bussiness\n",
      "['Dozens of arrests in Copenhagen for drunk scooter driving']\n",
      "[[0.6409137  0.02368361 0.10001311 0.23538953]] entertainment\n"
     ]
    }
   ],
   "source": [
    "# test\n",
    "\n",
    "labels = ['entertainment', 'bussiness', 'science/tech', 'health']\n",
    "txt_list = [[\"Regular fast food eating linked to fertility issues in women\"], [\"Chinese ethnic group biggest earners in the UK\"],\n",
    "           [\"Dozens of arrests in Copenhagen for drunk scooter driving\"]]\n",
    "\n",
    "for txt in txt_list:\n",
    "    print(txt)\n",
    "    sequence = tokenizer.texts_to_sequences(txt)\n",
    "    padded = pad_sequences(sequence, maxlen=max_len)\n",
    "    pred = model.predict(padded)\n",
    "    print(pred, labels[np.argmax(pred)])"
   ]
  },
  {
   "cell_type": "code",
   "execution_count": null,
   "metadata": {},
   "outputs": [],
   "source": []
  }
 ],
 "metadata": {
  "anaconda-cloud": {},
  "kernelspec": {
   "display_name": "Python 3",
   "language": "python",
   "name": "python3"
  },
  "language_info": {
   "codemirror_mode": {
    "name": "ipython",
    "version": 3
   },
   "file_extension": ".py",
   "mimetype": "text/x-python",
   "name": "python",
   "nbconvert_exporter": "python",
   "pygments_lexer": "ipython3",
   "version": "3.6.5"
  }
 },
 "nbformat": 4,
 "nbformat_minor": 1
}
